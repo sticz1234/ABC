{
 "cells": [
  {
   "cell_type": "markdown",
   "metadata": {},
   "source": [
    "# Zadanie 1"
   ]
  },
  {
   "cell_type": "code",
   "execution_count": 1,
   "metadata": {},
   "outputs": [],
   "source": [
    "import pandas as pd\n",
    "import datetime"
   ]
  },
  {
   "cell_type": "code",
   "execution_count": 2,
   "metadata": {},
   "outputs": [],
   "source": [
    "Data = pd.read_csv(\"zadanie1.csv\") #rozwiazanie zadania 1.1"
   ]
  },
  {
   "cell_type": "code",
   "execution_count": 3,
   "metadata": {},
   "outputs": [
    {
     "data": {
      "text/html": [
       "<div>\n",
       "<style scoped>\n",
       "    .dataframe tbody tr th:only-of-type {\n",
       "        vertical-align: middle;\n",
       "    }\n",
       "\n",
       "    .dataframe tbody tr th {\n",
       "        vertical-align: top;\n",
       "    }\n",
       "\n",
       "    .dataframe thead th {\n",
       "        text-align: right;\n",
       "    }\n",
       "</style>\n",
       "<table border=\"1\" class=\"dataframe\">\n",
       "  <thead>\n",
       "    <tr style=\"text-align: right;\">\n",
       "      <th></th>\n",
       "      <th>imie</th>\n",
       "      <th>nazwisko</th>\n",
       "      <th>data_urodzenia</th>\n",
       "    </tr>\n",
       "  </thead>\n",
       "  <tbody>\n",
       "    <tr>\n",
       "      <th>0</th>\n",
       "      <td>Jadwiga</td>\n",
       "      <td>Bilecka</td>\n",
       "      <td>01.01.1978</td>\n",
       "    </tr>\n",
       "    <tr>\n",
       "      <th>1</th>\n",
       "      <td>Rafal</td>\n",
       "      <td>Bobek</td>\n",
       "      <td>11.04.1978</td>\n",
       "    </tr>\n",
       "    <tr>\n",
       "      <th>2</th>\n",
       "      <td>Robert</td>\n",
       "      <td>Bobekowski</td>\n",
       "      <td>20.07.1978</td>\n",
       "    </tr>\n",
       "    <tr>\n",
       "      <th>3</th>\n",
       "      <td>Rafal</td>\n",
       "      <td>Bobikowski</td>\n",
       "      <td>28.10.1978</td>\n",
       "    </tr>\n",
       "    <tr>\n",
       "      <th>4</th>\n",
       "      <td>Rafal</td>\n",
       "      <td>Brobek</td>\n",
       "      <td>5.02.1979</td>\n",
       "    </tr>\n",
       "    <tr>\n",
       "      <th>...</th>\n",
       "      <td>...</td>\n",
       "      <td>...</td>\n",
       "      <td>...</td>\n",
       "    </tr>\n",
       "    <tr>\n",
       "      <th>103</th>\n",
       "      <td>Robert</td>\n",
       "      <td>Zamek</td>\n",
       "      <td>15.03.2006</td>\n",
       "    </tr>\n",
       "    <tr>\n",
       "      <th>104</th>\n",
       "      <td>Wiktor</td>\n",
       "      <td>Zamlcki</td>\n",
       "      <td>23.06.2006</td>\n",
       "    </tr>\n",
       "    <tr>\n",
       "      <th>105</th>\n",
       "      <td>Tadeusz</td>\n",
       "      <td>Zomornik</td>\n",
       "      <td>1.10.2006</td>\n",
       "    </tr>\n",
       "    <tr>\n",
       "      <th>106</th>\n",
       "      <td>Edward</td>\n",
       "      <td>Zeligowski</td>\n",
       "      <td>9.01.2007</td>\n",
       "    </tr>\n",
       "    <tr>\n",
       "      <th>107</th>\n",
       "      <td>Zbigniew</td>\n",
       "      <td>Zeligowski</td>\n",
       "      <td>19.04.2007</td>\n",
       "    </tr>\n",
       "  </tbody>\n",
       "</table>\n",
       "<p>108 rows × 3 columns</p>\n",
       "</div>"
      ],
      "text/plain": [
       "         imie    nazwisko data_urodzenia\n",
       "0     Jadwiga     Bilecka     01.01.1978\n",
       "1       Rafal       Bobek     11.04.1978\n",
       "2      Robert  Bobekowski     20.07.1978\n",
       "3       Rafal  Bobikowski     28.10.1978\n",
       "4       Rafal      Brobek      5.02.1979\n",
       "..        ...         ...            ...\n",
       "103    Robert       Zamek     15.03.2006\n",
       "104    Wiktor     Zamlcki     23.06.2006\n",
       "105   Tadeusz    Zomornik      1.10.2006\n",
       "106    Edward  Zeligowski      9.01.2007\n",
       "107  Zbigniew  Zeligowski     19.04.2007\n",
       "\n",
       "[108 rows x 3 columns]"
      ]
     },
     "execution_count": 3,
     "metadata": {},
     "output_type": "execute_result"
    }
   ],
   "source": [
    "Data"
   ]
  },
  {
   "cell_type": "code",
   "execution_count": 4,
   "metadata": {},
   "outputs": [
    {
     "data": {
      "text/plain": [
       "imie              object\n",
       "nazwisko          object\n",
       "data_urodzenia    object\n",
       "dtype: object"
      ]
     },
     "execution_count": 4,
     "metadata": {},
     "output_type": "execute_result"
    }
   ],
   "source": [
    "Data.dtypes"
   ]
  },
  {
   "cell_type": "code",
   "execution_count": 5,
   "metadata": {},
   "outputs": [],
   "source": [
    "Data['data_urodzenia'] =  pd.to_datetime(Data['data_urodzenia'])"
   ]
  },
  {
   "cell_type": "code",
   "execution_count": 6,
   "metadata": {},
   "outputs": [
    {
     "data": {
      "text/plain": [
       "imie                      object\n",
       "nazwisko                  object\n",
       "data_urodzenia    datetime64[ns]\n",
       "dtype: object"
      ]
     },
     "execution_count": 6,
     "metadata": {},
     "output_type": "execute_result"
    }
   ],
   "source": [
    "Data.dtypes"
   ]
  },
  {
   "cell_type": "code",
   "execution_count": 7,
   "metadata": {},
   "outputs": [
    {
     "data": {
      "text/html": [
       "<div>\n",
       "<style scoped>\n",
       "    .dataframe tbody tr th:only-of-type {\n",
       "        vertical-align: middle;\n",
       "    }\n",
       "\n",
       "    .dataframe tbody tr th {\n",
       "        vertical-align: top;\n",
       "    }\n",
       "\n",
       "    .dataframe thead th {\n",
       "        text-align: right;\n",
       "    }\n",
       "</style>\n",
       "<table border=\"1\" class=\"dataframe\">\n",
       "  <thead>\n",
       "    <tr style=\"text-align: right;\">\n",
       "      <th></th>\n",
       "      <th>imie</th>\n",
       "      <th>nazwisko</th>\n",
       "      <th>data_urodzenia</th>\n",
       "    </tr>\n",
       "  </thead>\n",
       "  <tbody>\n",
       "    <tr>\n",
       "      <th>81</th>\n",
       "      <td>Krystyna</td>\n",
       "      <td>Polkowiak</td>\n",
       "      <td>2000-06-03</td>\n",
       "    </tr>\n",
       "    <tr>\n",
       "      <th>82</th>\n",
       "      <td>Wiktor</td>\n",
       "      <td>Proszak</td>\n",
       "      <td>2000-06-14</td>\n",
       "    </tr>\n",
       "    <tr>\n",
       "      <th>83</th>\n",
       "      <td>Andrzej</td>\n",
       "      <td>Robek</td>\n",
       "      <td>2000-09-22</td>\n",
       "    </tr>\n",
       "    <tr>\n",
       "      <th>84</th>\n",
       "      <td>Zbigniew</td>\n",
       "      <td>Rudak</td>\n",
       "      <td>2000-12-31</td>\n",
       "    </tr>\n",
       "    <tr>\n",
       "      <th>85</th>\n",
       "      <td>Barbara</td>\n",
       "      <td>Sadurski</td>\n",
       "      <td>2001-10-04</td>\n",
       "    </tr>\n",
       "    <tr>\n",
       "      <th>86</th>\n",
       "      <td>Marek</td>\n",
       "      <td>Sawek</td>\n",
       "      <td>2001-07-19</td>\n",
       "    </tr>\n",
       "    <tr>\n",
       "      <th>87</th>\n",
       "      <td>Robert</td>\n",
       "      <td>Sulik</td>\n",
       "      <td>2001-10-27</td>\n",
       "    </tr>\n",
       "    <tr>\n",
       "      <th>88</th>\n",
       "      <td>Zbigniew</td>\n",
       "      <td>Sulik</td>\n",
       "      <td>2002-04-02</td>\n",
       "    </tr>\n",
       "    <tr>\n",
       "      <th>89</th>\n",
       "      <td>Robert</td>\n",
       "      <td>Sulikowski</td>\n",
       "      <td>2002-05-15</td>\n",
       "    </tr>\n",
       "    <tr>\n",
       "      <th>90</th>\n",
       "      <td>Robert</td>\n",
       "      <td>Surma</td>\n",
       "      <td>2002-08-23</td>\n",
       "    </tr>\n",
       "    <tr>\n",
       "      <th>91</th>\n",
       "      <td>Robert</td>\n",
       "      <td>Surmak</td>\n",
       "      <td>2002-01-12</td>\n",
       "    </tr>\n",
       "    <tr>\n",
       "      <th>92</th>\n",
       "      <td>Wiktor</td>\n",
       "      <td>Suwald</td>\n",
       "      <td>2003-11-03</td>\n",
       "    </tr>\n",
       "    <tr>\n",
       "      <th>93</th>\n",
       "      <td>Michal</td>\n",
       "      <td>Szerka</td>\n",
       "      <td>2003-06-19</td>\n",
       "    </tr>\n",
       "    <tr>\n",
       "      <th>94</th>\n",
       "      <td>Tadeusz</td>\n",
       "      <td>Tomora</td>\n",
       "      <td>2003-09-27</td>\n",
       "    </tr>\n",
       "    <tr>\n",
       "      <th>95</th>\n",
       "      <td>Zbigniew</td>\n",
       "      <td>Trewirek</td>\n",
       "      <td>2004-05-01</td>\n",
       "    </tr>\n",
       "    <tr>\n",
       "      <th>96</th>\n",
       "      <td>Zbigniew</td>\n",
       "      <td>Twardzioch</td>\n",
       "      <td>2004-04-14</td>\n",
       "    </tr>\n",
       "    <tr>\n",
       "      <th>97</th>\n",
       "      <td>Andrzej</td>\n",
       "      <td>Twarnowski</td>\n",
       "      <td>2004-07-23</td>\n",
       "    </tr>\n",
       "    <tr>\n",
       "      <th>98</th>\n",
       "      <td>Tadeusz</td>\n",
       "      <td>Twomicki</td>\n",
       "      <td>2004-10-31</td>\n",
       "    </tr>\n",
       "    <tr>\n",
       "      <th>99</th>\n",
       "      <td>Michal</td>\n",
       "      <td>Wertyk</td>\n",
       "      <td>2005-08-02</td>\n",
       "    </tr>\n",
       "    <tr>\n",
       "      <th>100</th>\n",
       "      <td>Rafal</td>\n",
       "      <td>Wobek</td>\n",
       "      <td>2005-05-19</td>\n",
       "    </tr>\n",
       "    <tr>\n",
       "      <th>101</th>\n",
       "      <td>Tadeusz</td>\n",
       "      <td>Womor</td>\n",
       "      <td>2005-08-27</td>\n",
       "    </tr>\n",
       "    <tr>\n",
       "      <th>102</th>\n",
       "      <td>Robert</td>\n",
       "      <td>Wyszon</td>\n",
       "      <td>2005-05-12</td>\n",
       "    </tr>\n",
       "    <tr>\n",
       "      <th>103</th>\n",
       "      <td>Robert</td>\n",
       "      <td>Zamek</td>\n",
       "      <td>2006-03-15</td>\n",
       "    </tr>\n",
       "    <tr>\n",
       "      <th>104</th>\n",
       "      <td>Wiktor</td>\n",
       "      <td>Zamlcki</td>\n",
       "      <td>2006-06-23</td>\n",
       "    </tr>\n",
       "    <tr>\n",
       "      <th>105</th>\n",
       "      <td>Tadeusz</td>\n",
       "      <td>Zomornik</td>\n",
       "      <td>2006-01-10</td>\n",
       "    </tr>\n",
       "    <tr>\n",
       "      <th>106</th>\n",
       "      <td>Edward</td>\n",
       "      <td>Zeligowski</td>\n",
       "      <td>2007-09-01</td>\n",
       "    </tr>\n",
       "    <tr>\n",
       "      <th>107</th>\n",
       "      <td>Zbigniew</td>\n",
       "      <td>Zeligowski</td>\n",
       "      <td>2007-04-19</td>\n",
       "    </tr>\n",
       "  </tbody>\n",
       "</table>\n",
       "</div>"
      ],
      "text/plain": [
       "         imie    nazwisko data_urodzenia\n",
       "81   Krystyna   Polkowiak     2000-06-03\n",
       "82     Wiktor     Proszak     2000-06-14\n",
       "83    Andrzej       Robek     2000-09-22\n",
       "84   Zbigniew       Rudak     2000-12-31\n",
       "85    Barbara    Sadurski     2001-10-04\n",
       "86      Marek       Sawek     2001-07-19\n",
       "87     Robert       Sulik     2001-10-27\n",
       "88   Zbigniew       Sulik     2002-04-02\n",
       "89     Robert  Sulikowski     2002-05-15\n",
       "90     Robert       Surma     2002-08-23\n",
       "91     Robert      Surmak     2002-01-12\n",
       "92     Wiktor      Suwald     2003-11-03\n",
       "93     Michal      Szerka     2003-06-19\n",
       "94    Tadeusz      Tomora     2003-09-27\n",
       "95   Zbigniew    Trewirek     2004-05-01\n",
       "96   Zbigniew  Twardzioch     2004-04-14\n",
       "97    Andrzej  Twarnowski     2004-07-23\n",
       "98    Tadeusz    Twomicki     2004-10-31\n",
       "99     Michal      Wertyk     2005-08-02\n",
       "100     Rafal       Wobek     2005-05-19\n",
       "101   Tadeusz       Womor     2005-08-27\n",
       "102    Robert      Wyszon     2005-05-12\n",
       "103    Robert       Zamek     2006-03-15\n",
       "104    Wiktor     Zamlcki     2006-06-23\n",
       "105   Tadeusz    Zomornik     2006-01-10\n",
       "106    Edward  Zeligowski     2007-09-01\n",
       "107  Zbigniew  Zeligowski     2007-04-19"
      ]
     },
     "execution_count": 7,
     "metadata": {},
     "output_type": "execute_result"
    }
   ],
   "source": [
    "Data[(Data['data_urodzenia'] > '1999-12-31')]  #rozwiazanie zadania 1.2"
   ]
  },
  {
   "cell_type": "code",
   "execution_count": null,
   "metadata": {},
   "outputs": [],
   "source": []
  },
  {
   "cell_type": "code",
   "execution_count": 8,
   "metadata": {},
   "outputs": [
    {
     "data": {
      "text/plain": [
       "0       Jadwiga\n",
       "1         Rafal\n",
       "2        Robert\n",
       "3         Rafal\n",
       "4         Rafal\n",
       "         ...   \n",
       "103      Robert\n",
       "104      Wiktor\n",
       "105     Tadeusz\n",
       "106      Edward\n",
       "107    Zbigniew\n",
       "Name: imie, Length: 108, dtype: object"
      ]
     },
     "execution_count": 8,
     "metadata": {},
     "output_type": "execute_result"
    }
   ],
   "source": [
    "Data['imie']"
   ]
  },
  {
   "cell_type": "code",
   "execution_count": 9,
   "metadata": {},
   "outputs": [],
   "source": [
    "a = Data['imie'].str.endswith('a')"
   ]
  },
  {
   "cell_type": "code",
   "execution_count": 10,
   "metadata": {},
   "outputs": [],
   "source": [
    "a = a.index[a].tolist()"
   ]
  },
  {
   "cell_type": "code",
   "execution_count": 11,
   "metadata": {},
   "outputs": [],
   "source": [
    "Women_names = Data.loc[a]"
   ]
  },
  {
   "cell_type": "code",
   "execution_count": 12,
   "metadata": {},
   "outputs": [],
   "source": [
    "Women_nodupli = Women_names.drop_duplicates(subset='imie', inplace=False)"
   ]
  },
  {
   "cell_type": "code",
   "execution_count": 13,
   "metadata": {},
   "outputs": [
    {
     "data": {
      "text/plain": [
       "['Jadwiga',\n",
       " 'Liliana',\n",
       " 'Katarzyna',\n",
       " 'Barbara',\n",
       " 'Kalina',\n",
       " 'Jolanta',\n",
       " 'Pelagia',\n",
       " 'Ewa',\n",
       " 'Krystyna',\n",
       " 'Elwira']"
      ]
     },
     "execution_count": 13,
     "metadata": {},
     "output_type": "execute_result"
    }
   ],
   "source": [
    "Women_nodupli['imie'].tolist() #rozwiazanie zadania 1.3"
   ]
  },
  {
   "cell_type": "markdown",
   "metadata": {},
   "source": [
    "# Task 2"
   ]
  },
  {
   "cell_type": "code",
   "execution_count": null,
   "metadata": {},
   "outputs": [],
   "source": []
  },
  {
   "cell_type": "code",
   "execution_count": 14,
   "metadata": {},
   "outputs": [],
   "source": [
    "import flickrapi\n",
    "import urllib\n",
    "from PIL import Image\n",
    "import sqlite3\n",
    "from sqlite3 import Error\n",
    "import imageio"
   ]
  },
  {
   "cell_type": "code",
   "execution_count": 15,
   "metadata": {},
   "outputs": [],
   "source": [
    "def picture_to_arr(image):\n",
    "    colour_list = []\n",
    "    arr = image\n",
    "    arr_list=arr.tolist()\n",
    "    r=g=b=0\n",
    "    for row in arr_list:\n",
    "        for item in row:\n",
    "            r=r+item[0]\n",
    "            g=g+item[1]\n",
    "            b=b+item[2]  \n",
    "    total=r+g+b\n",
    "    red=r/total*100\n",
    "    green=g/total*100\n",
    "    blue=b/total*100\n",
    "    colour_list.append(red)\n",
    "    colour_list.append(green)\n",
    "    colour_list.append(blue)\n",
    "    print (\"the percentage of red content=\",red,\"%\")\n",
    "    print (\"the percentage of green content=\",green,\"%\")\n",
    "    print (\"the percentage of blue content=\",blue,\"%\")\n",
    "    \n",
    "    return colour_list"
   ]
  },
  {
   "cell_type": "code",
   "execution_count": 19,
   "metadata": {},
   "outputs": [],
   "source": [
    "def Flickr_download(keyword,images_number=100):\n",
    "    \n",
    "    #if keyword = null\n",
    "    # Flickr api access key \n",
    "    flickr=flickrapi.FlickrAPI('c6a2c45591d4973ff525042472446ca2', '202ffe6f387ce29b', cache=True)\n",
    "    \n",
    "    photos = flickr.walk(text=keyword,\n",
    "                         tag_mode='all',\n",
    "                         tags=keyword,\n",
    "                         extras='url_c',\n",
    "                         per_page=100,           \n",
    "                         sort='relevance')\n",
    "    \n",
    "    urls = []\n",
    "    for i, photo in enumerate(photos):\n",
    "        print (i)\n",
    "        \n",
    "        url = photo.get('url_c')\n",
    "        urls.append(url)\n",
    "        \n",
    "        # get exact amount of images\n",
    "        if i > images_number:\n",
    "            break\n",
    "    \n",
    "    print (urls)\n",
    "    \n",
    "    # Download image from the url and save it to '00001.jpg'\n",
    "    path =r\"C:\\\\Users\\\\sticz\\\\Desktop\\\\ABC\\\\Images\\\\\"\n",
    "    for i in range(0,images_number):\n",
    "        urllib.request.urlretrieve(urls[i], path + str(i) + '.jpg')\n",
    "        "
   ]
  },
  {
   "cell_type": "code",
   "execution_count": null,
   "metadata": {},
   "outputs": [],
   "source": []
  },
  {
   "cell_type": "code",
   "execution_count": 22,
   "metadata": {},
   "outputs": [
    {
     "name": "stdout",
     "output_type": "stream",
     "text": [
      "0\n",
      "1\n",
      "2\n",
      "3\n",
      "4\n",
      "5\n",
      "6\n",
      "['https://live.staticflickr.com/6013/5942755659_747b0ef148_c.jpg', 'https://live.staticflickr.com/5322/9112767612_732ee43469_c.jpg', 'https://live.staticflickr.com/4329/36174951912_1d81f55647_c.jpg', 'https://live.staticflickr.com/1955/31869657858_52b0849d65_c.jpg', 'https://live.staticflickr.com/8378/8522024777_69eb8a7e21_c.jpg', 'https://live.staticflickr.com/4067/5169411258_01a64d80ba_c.jpg', None]\n"
     ]
    }
   ],
   "source": [
    "Flickr_download(\"husky\",5) #bez podania bedzie sciagac 100 obrazow"
   ]
  },
  {
   "cell_type": "code",
   "execution_count": null,
   "metadata": {},
   "outputs": [],
   "source": []
  },
  {
   "cell_type": "code",
   "execution_count": null,
   "metadata": {},
   "outputs": [],
   "source": []
  },
  {
   "cell_type": "code",
   "execution_count": null,
   "metadata": {},
   "outputs": [],
   "source": [
    "import os\n",
    "import glob\n",
    "import numpy as np\n",
    "import sqlite3\n",
    "import cv2\n",
    "\n",
    "PATH_IMAGES = r\"C:\\\\Users\\\\sticz\\\\Desktop\\\\ABC\\\\Images\\\\\"\n",
    " \n",
    "#--- Extract files from folder following pattern\n",
    "files   = glob.glob(PATH_IMAGES+ \"*.jpg\")\n",
    "n_files = len(files)\n",
    "print('Number of files in folder: ', n_files)\n",
    " \n",
    "#--- Simple database creator\n",
    "def create_db(filename):\n",
    "    db = sqlite3.connect(filename)\n",
    "    cursor = db.cursor()\n",
    "    cursor.execute(\"DROP TABLE IF EXISTS Images\")\n",
    "    cursor.execute(\"CREATE TABLE Images(ObjId INT, img BLOB, size INT)\")\n",
    "    db.commit()\n",
    "    db.close()\n",
    " \n",
    "filename_db = 'testdb_0.db'\n",
    "create_db(filename_db)\n",
    " \n",
    "#--- Open database and loop over files to insert in database\n",
    "con = sqlite3.connect(filename_db)\n",
    "cur = con.cursor()\n",
    "for i, file_i in enumerate(files):\n",
    " \n",
    "    #--- Read image as a binary blob\n",
    "    with open(file_i, 'rb') as f:\n",
    "        image_bytes = f.read()\n",
    "        \n",
    "    f.close()\n",
    "    #--- Decode raw bytes to get image size\n",
    "    nparr  = np.fromstring(image_bytes, np.uint8)\n",
    "    img_np = cv2.imdecode(nparr, cv2.IMREAD_COLOR)\n",
    "    image_size = img_np.shape[1]\n",
    " \n",
    "    #--- Extract file name without extension\n",
    "    filename = os.path.relpath(file_i, PATH_IMAGES)\n",
    "    objid = int(os.path.splitext(filename)[0])\n",
    " \n",
    "     #--- Insert image and data into table\n",
    "    cur.execute(\"insert into Images VALUES(?,?,?)\", (objid,sqlite3.Binary(image_bytes),image_size)   )\n",
    "    con.commit()\n",
    " \n",
    "    #--- Cheap progress\n",
    "    if ((i % 100) == 0):\n",
    "        print(i, n_files)\n",
    " \n",
    "cur.close()\n",
    "con.close()"
   ]
  },
  {
   "cell_type": "code",
   "execution_count": null,
   "metadata": {},
   "outputs": [],
   "source": []
  },
  {
   "cell_type": "code",
   "execution_count": null,
   "metadata": {},
   "outputs": [],
   "source": [
    "con = sqlite3.connect(filename_db)\n",
    "cur = con.cursor()\n",
    "row = cur.execute(\"SELECT ObjId, img from Images\")\n",
    "Kitku_list = []\n",
    "RBG_list = []\n",
    "\n",
    "for ObjId, item in row:\n",
    " #--- Decode blob\n",
    "    nparr  = np.fromstring(item, np.uint8)\n",
    "    img_np = cv2.imdecode(nparr, cv2.IMREAD_COLOR)\n",
    "    RBG_list.append(picture_to_arr(img_np))\n",
    "    RGB_df = pd.DataFrame(RBG_list)\n",
    "    Most_red_index = RGB_df[0].idxmax()\n",
    "    Kitku_list.append(img_np)\n",
    "    print(\"/n\")\n",
    "\n",
    "cur.close()\n",
    "con.close()"
   ]
  },
  {
   "cell_type": "code",
   "execution_count": null,
   "metadata": {},
   "outputs": [],
   "source": [
    "Most_red_index"
   ]
  },
  {
   "cell_type": "code",
   "execution_count": null,
   "metadata": {},
   "outputs": [],
   "source": [
    "cv2.imshow('Most red image',Kitku_list[Most_red_index])  #Pokazanie najbardziej czerwonego obrazu\n",
    "k = cv2.waitKey(0)\n",
    "if k == 27:         # wait for ESC key to exit\n",
    "       cv2.destroyAllWindows()"
   ]
  },
  {
   "cell_type": "code",
   "execution_count": null,
   "metadata": {},
   "outputs": [],
   "source": []
  },
  {
   "cell_type": "code",
   "execution_count": null,
   "metadata": {},
   "outputs": [],
   "source": []
  },
  {
   "cell_type": "code",
   "execution_count": null,
   "metadata": {},
   "outputs": [],
   "source": []
  },
  {
   "cell_type": "code",
   "execution_count": null,
   "metadata": {},
   "outputs": [],
   "source": []
  },
  {
   "cell_type": "code",
   "execution_count": null,
   "metadata": {},
   "outputs": [],
   "source": []
  },
  {
   "cell_type": "code",
   "execution_count": null,
   "metadata": {},
   "outputs": [],
   "source": []
  }
 ],
 "metadata": {
  "kernelspec": {
   "display_name": "Python 3",
   "language": "python",
   "name": "python3"
  },
  "language_info": {
   "codemirror_mode": {
    "name": "ipython",
    "version": 3
   },
   "file_extension": ".py",
   "mimetype": "text/x-python",
   "name": "python",
   "nbconvert_exporter": "python",
   "pygments_lexer": "ipython3",
   "version": "3.7.6"
  }
 },
 "nbformat": 4,
 "nbformat_minor": 4
}
